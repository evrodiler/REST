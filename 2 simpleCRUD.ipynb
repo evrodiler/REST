{
 "cells": [
  {
   "cell_type": "code",
   "execution_count": null,
   "metadata": {},
   "outputs": [],
   "source": [
    "#https://codeburst.io/this-is-how-easy-it-is-to-create-a-rest-api-8a25122ab1f3"
   ]
  },
  {
   "cell_type": "code",
   "execution_count": 1,
   "metadata": {},
   "outputs": [],
   "source": [
    "from flask import Flask\n",
    "from flask_restful import Api,Resource,reqparse"
   ]
  },
  {
   "cell_type": "code",
   "execution_count": 2,
   "metadata": {},
   "outputs": [],
   "source": [
    "app = Flask(__name__)\n",
    "api= Api(app)"
   ]
  },
  {
   "cell_type": "code",
   "execution_count": 3,
   "metadata": {},
   "outputs": [],
   "source": [
    "users =[\n",
    "    {\n",
    "        \"name\":\"Evrim\",\n",
    "        \"age\":45,\n",
    "        \"occupation\": \"Engineer\"\n",
    "    },\n",
    "    {\n",
    "        \"name\":\"Meral\",\n",
    "        \"age\":41,\n",
    "        \"occupation\": \"Officer\"\n",
    "    },\n",
    "    {\n",
    "        \"name\":\"Egemen\",\n",
    "        \"age\":14,\n",
    "        \"occupation\": \"Student\"\n",
    "    }\n",
    "]"
   ]
  },
  {
   "cell_type": "code",
   "execution_count": null,
   "metadata": {},
   "outputs": [],
   "source": [
    "users"
   ]
  },
  {
   "cell_type": "code",
   "execution_count": 5,
   "metadata": {},
   "outputs": [],
   "source": [
    "class User(Resource):\n",
    "    \n",
    "    def get(self, name):\n",
    "        for user in users:\n",
    "            if(name==user[\"name\"]):\n",
    "                return user,200\n",
    "            \n",
    "        return \"user not found\",404\n",
    "    \n",
    "    #to create a new user:    \n",
    "    def post(self, name): \n",
    "        parser= reqparse.RequestParser()\n",
    "        parser.add_argument(\"age\")\n",
    "        parser.add_argument(\"occupation\")\n",
    "        args = parser.parse_args()\n",
    "        \n",
    "        for user in users:\n",
    "            if(name==user[\"name\"]):\n",
    "                return \"User with name {} already exists\".format(name),400\n",
    "\n",
    "        user = {\n",
    "            \"name\": name,\n",
    "            \"age\":args[\"age\"],\n",
    "            \"occupation\":args[\"occupation\"]            \n",
    "        }\n",
    "        users.append(user)\n",
    "        return user,201\n",
    "    \n",
    "    #to update\n",
    "    def put(self, name):\n",
    "        parser= reqparse.RequestParser()\n",
    "        parser.add_argument(\"age\")\n",
    "        parser.add_argument(\"occupation\")\n",
    "        args = parser.parse_args()\n",
    "        \n",
    "        for user in users:\n",
    "            if(name==user[\"name\"]):\n",
    "                user[\"age\"] = args[\"age\"]\n",
    "                user[\"occupation\"] = args[\"occupation\"]\n",
    "                return user,200\n",
    "\n",
    "        user = {\n",
    "            \"name\": name,\n",
    "            \"age\":args[\"age\"],\n",
    "            \"occupation\":args[\"occupation\"]            \n",
    "        }\n",
    "        users.append(user)\n",
    "        return user,201\n",
    "        \n",
    "        \n",
    "    def delete(self, name):\n",
    "        global users\n",
    "        users =[user for user in users if user[\"name\"]!=name]\n",
    "        return \"{} is deleted.\".format(name),200\n",
    "    "
   ]
  },
  {
   "cell_type": "code",
   "execution_count": 6,
   "metadata": {},
   "outputs": [],
   "source": [
    "api.add_resource(User,\"/user/<string:name>\")"
   ]
  },
  {
   "cell_type": "code",
   "execution_count": null,
   "metadata": {},
   "outputs": [
    {
     "name": "stdout",
     "output_type": "stream",
     "text": [
      " * Serving Flask app \"__main__\" (lazy loading)\n",
      " * Environment: production\n",
      "   WARNING: Do not use the development server in a production environment.\n",
      "   Use a production WSGI server instead.\n",
      " * Debug mode: off\n"
     ]
    },
    {
     "name": "stderr",
     "output_type": "stream",
     "text": [
      " * Running on http://127.0.0.1:5000/ (Press CTRL+C to quit)\n",
      "127.0.0.1 - - [07/Jan/2019 16:16:02] \"\u001b[37mGET /user/Evrim HTTP/1.1\u001b[0m\" 200 -\n",
      "127.0.0.1 - - [07/Jan/2019 16:16:08] \"\u001b[37mGET /user/Meral HTTP/1.1\u001b[0m\" 200 -\n",
      "127.0.0.1 - - [07/Jan/2019 16:16:15] \"\u001b[37mGET /user/Egemen HTTP/1.1\u001b[0m\" 200 -\n",
      "127.0.0.1 - - [07/Jan/2019 16:16:21] \"\u001b[33mGET /user/Asl1 HTTP/1.1\u001b[0m\" 404 -\n",
      "127.0.0.1 - - [07/Jan/2019 16:16:27] \"\u001b[33mPOST /user/?name=Asl%C4%B1&age=20 HTTP/1.1\u001b[0m\" 404 -\n",
      "127.0.0.1 - - [07/Jan/2019 16:17:14] \"\u001b[33mPOST /user/?name=Asl%C4%B1&age=20&Occupation=University%20Student HTTP/1.1\u001b[0m\" 404 -\n",
      "127.0.0.1 - - [07/Jan/2019 16:17:23] \"\u001b[33mPOST /user/?name=Asl%C4%B1&age=20&occupation=University%20Student HTTP/1.1\u001b[0m\" 404 -\n",
      "127.0.0.1 - - [07/Jan/2019 16:17:48] \"\u001b[33mPOST /user/?name=Asli&age=20&occupation=University%20Student HTTP/1.1\u001b[0m\" 404 -\n",
      "127.0.0.1 - - [07/Jan/2019 16:18:51] \"\u001b[33mPOST /?name=Asli&age=20&occupation=University%20Student HTTP/1.1\u001b[0m\" 404 -\n",
      "127.0.0.1 - - [07/Jan/2019 16:19:15] \"\u001b[37mPOST /user/Thomas HTTP/1.1\u001b[0m\" 201 -\n",
      "127.0.0.1 - - [07/Jan/2019 16:19:23] \"\u001b[37mPOST /user/Asl1 HTTP/1.1\u001b[0m\" 201 -\n",
      "127.0.0.1 - - [07/Jan/2019 16:19:34] \"\u001b[1m\u001b[31mPOST /user/Asl1 HTTP/1.1\u001b[0m\" 400 -\n",
      "127.0.0.1 - - [07/Jan/2019 16:19:39] \"\u001b[37mGET /user/Asl1 HTTP/1.1\u001b[0m\" 200 -\n",
      "127.0.0.1 - - [07/Jan/2019 16:19:45] \"\u001b[37mGET /user/Thomas HTTP/1.1\u001b[0m\" 200 -\n",
      "127.0.0.1 - - [07/Jan/2019 16:21:12] \"\u001b[37mPOST /user/name=Emre&age=45 HTTP/1.1\u001b[0m\" 201 -\n",
      "127.0.0.1 - - [07/Jan/2019 16:46:44] \"\u001b[33mGET /user/name=Evro HTTP/1.1\u001b[0m\" 404 -\n",
      "127.0.0.1 - - [07/Jan/2019 16:47:16] \"\u001b[37mGET /user/name=Emre&age=45 HTTP/1.1\u001b[0m\" 200 -\n",
      "127.0.0.1 - - [07/Jan/2019 16:47:22] \"\u001b[37mDELETE /user/name=Emre&age=45 HTTP/1.1\u001b[0m\" 200 -\n",
      "127.0.0.1 - - [07/Jan/2019 16:47:28] \"\u001b[33mGET /user/name=Emre&age=45 HTTP/1.1\u001b[0m\" 404 -\n",
      "127.0.0.1 - - [07/Jan/2019 16:50:49] \"\u001b[1m\u001b[31mPOST /user/Evrim?age=45 HTTP/1.1\u001b[0m\" 400 -\n",
      "127.0.0.1 - - [07/Jan/2019 16:50:58] \"\u001b[37mPOST /user/ego?age=45 HTTP/1.1\u001b[0m\" 201 -\n",
      "127.0.0.1 - - [07/Jan/2019 17:20:33] \"\u001b[37mPUT /user/ego?age=21 HTTP/1.1\u001b[0m\" 200 -\n",
      "127.0.0.1 - - [07/Jan/2019 17:22:52] \"\u001b[37mPOST /user/egomen?age=21&occupation=Student HTTP/1.1\u001b[0m\" 201 -\n"
     ]
    }
   ],
   "source": [
    "app.run(debug=False)"
   ]
  },
  {
   "cell_type": "code",
   "execution_count": null,
   "metadata": {},
   "outputs": [],
   "source": [
    "#example\n",
    "#POST http://127.0.0.1:5000/user/egomen?age=21&occupation=Student\n",
    "#GET http://127.0.0.1:5000/user/Evrim\n",
    "#PUT http://127.0.0.1:5000/user/ego?age=21\n"
   ]
  }
 ],
 "metadata": {
  "kernelspec": {
   "display_name": "Python 3",
   "language": "python",
   "name": "python3"
  },
  "language_info": {
   "codemirror_mode": {
    "name": "ipython",
    "version": 3
   },
   "file_extension": ".py",
   "mimetype": "text/x-python",
   "name": "python",
   "nbconvert_exporter": "python",
   "pygments_lexer": "ipython3",
   "version": "3.6.5"
  }
 },
 "nbformat": 4,
 "nbformat_minor": 2
}
